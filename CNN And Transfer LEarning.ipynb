{
 "cells": [
  {
   "cell_type": "code",
   "execution_count": null,
   "metadata": {},
   "outputs": [],
   "source": []
  },
  {
   "cell_type": "markdown",
   "metadata": {},
   "source": [
    "## Creating CNN Using Scratch And Transfer Learning"
   ]
  },
  {
   "cell_type": "markdown",
   "metadata": {},
   "source": [
    "Please download the dataset from the below url"
   ]
  },
  {
   "cell_type": "code",
   "execution_count": 1,
   "metadata": {},
   "outputs": [],
   "source": [
    "# import the libraries as shown below\n",
    "\n",
    "from tensorflow.keras.layers import Input, Lambda, Dense, Flatten,Conv2D\n",
    "from tensorflow.keras.models import Model\n",
    "from tensorflow.keras.applications.vgg19 import VGG19\n",
    "from tensorflow.keras.applications.resnet50 import preprocess_input\n",
    "from tensorflow.keras.preprocessing import image\n",
    "from tensorflow.keras.preprocessing.image import ImageDataGenerator,load_img\n",
    "from tensorflow.keras.models import Sequential\n",
    "import numpy as np\n",
    "from glob import glob\n",
    "import matplotlib.pyplot as plt"
   ]
  },
  {
   "cell_type": "code",
   "execution_count": 2,
   "metadata": {},
   "outputs": [],
   "source": [
    "# re-size all the images to this\n",
    "IMAGE_SIZE = [224, 224]\n",
    "\n",
    "#train_path = 'cell_images/Train'\n",
    "#valid_path = 'cell_images/Test'\n",
    "\n",
    "\n",
    "train_path = 'Dataset/Train'\n",
    "valid_path = 'Dataset/Test'\n"
   ]
  },
  {
   "cell_type": "code",
   "execution_count": 3,
   "metadata": {},
   "outputs": [
    {
     "name": "stdout",
     "output_type": "stream",
     "text": [
      "Downloading data from https://storage.googleapis.com/tensorflow/keras-applications/vgg19/vgg19_weights_tf_dim_ordering_tf_kernels_notop.h5\n",
      "80142336/80134624 [==============================] - 105s 1us/step\n",
      "80150528/80134624 [==============================] - 105s 1us/step\n"
     ]
    }
   ],
   "source": [
    "# Import the Vgg 16 library as shown below and add preprocessing layer to the front of VGG\n",
    "# Here we will be using imagenet weights\n",
    "\n",
    "mobilnet = VGG19(input_shape=IMAGE_SIZE + [3], weights='imagenet', include_top=False)\n",
    "\n",
    "\n"
   ]
  },
  {
   "cell_type": "code",
   "execution_count": 4,
   "metadata": {},
   "outputs": [],
   "source": [
    "# don't train existing weights\n",
    "for layer in mobilnet.layers:\n",
    "    layer.trainable = False"
   ]
  },
  {
   "cell_type": "code",
   "execution_count": 5,
   "metadata": {},
   "outputs": [],
   "source": [
    "  # useful for getting number of output classes\n",
    "folders = glob('Dataset/Train/*')"
   ]
  },
  {
   "cell_type": "code",
   "execution_count": 6,
   "metadata": {},
   "outputs": [
    {
     "data": {
      "text/plain": [
       "['Dataset/Train\\\\Parasite', 'Dataset/Train\\\\Uninfected']"
      ]
     },
     "execution_count": 6,
     "metadata": {},
     "output_type": "execute_result"
    }
   ],
   "source": [
    "folders"
   ]
  },
  {
   "cell_type": "code",
   "execution_count": 7,
   "metadata": {},
   "outputs": [],
   "source": [
    "# our layers - you can add more if you want\n",
    "x = Flatten()(mobilnet.output)"
   ]
  },
  {
   "cell_type": "code",
   "execution_count": 8,
   "metadata": {},
   "outputs": [],
   "source": [
    "prediction = Dense(len(folders), activation='softmax')(x)\n",
    "\n",
    "# create a model object\n",
    "model = Model(inputs=mobilnet.input, outputs=prediction)"
   ]
  },
  {
   "cell_type": "code",
   "execution_count": 9,
   "metadata": {},
   "outputs": [
    {
     "name": "stdout",
     "output_type": "stream",
     "text": [
      "Model: \"model\"\n",
      "_________________________________________________________________\n",
      "Layer (type)                 Output Shape              Param #   \n",
      "=================================================================\n",
      "input_1 (InputLayer)         [(None, 224, 224, 3)]     0         \n",
      "_________________________________________________________________\n",
      "block1_conv1 (Conv2D)        (None, 224, 224, 64)      1792      \n",
      "_________________________________________________________________\n",
      "block1_conv2 (Conv2D)        (None, 224, 224, 64)      36928     \n",
      "_________________________________________________________________\n",
      "block1_pool (MaxPooling2D)   (None, 112, 112, 64)      0         \n",
      "_________________________________________________________________\n",
      "block2_conv1 (Conv2D)        (None, 112, 112, 128)     73856     \n",
      "_________________________________________________________________\n",
      "block2_conv2 (Conv2D)        (None, 112, 112, 128)     147584    \n",
      "_________________________________________________________________\n",
      "block2_pool (MaxPooling2D)   (None, 56, 56, 128)       0         \n",
      "_________________________________________________________________\n",
      "block3_conv1 (Conv2D)        (None, 56, 56, 256)       295168    \n",
      "_________________________________________________________________\n",
      "block3_conv2 (Conv2D)        (None, 56, 56, 256)       590080    \n",
      "_________________________________________________________________\n",
      "block3_conv3 (Conv2D)        (None, 56, 56, 256)       590080    \n",
      "_________________________________________________________________\n",
      "block3_conv4 (Conv2D)        (None, 56, 56, 256)       590080    \n",
      "_________________________________________________________________\n",
      "block3_pool (MaxPooling2D)   (None, 28, 28, 256)       0         \n",
      "_________________________________________________________________\n",
      "block4_conv1 (Conv2D)        (None, 28, 28, 512)       1180160   \n",
      "_________________________________________________________________\n",
      "block4_conv2 (Conv2D)        (None, 28, 28, 512)       2359808   \n",
      "_________________________________________________________________\n",
      "block4_conv3 (Conv2D)        (None, 28, 28, 512)       2359808   \n",
      "_________________________________________________________________\n",
      "block4_conv4 (Conv2D)        (None, 28, 28, 512)       2359808   \n",
      "_________________________________________________________________\n",
      "block4_pool (MaxPooling2D)   (None, 14, 14, 512)       0         \n",
      "_________________________________________________________________\n",
      "block5_conv1 (Conv2D)        (None, 14, 14, 512)       2359808   \n",
      "_________________________________________________________________\n",
      "block5_conv2 (Conv2D)        (None, 14, 14, 512)       2359808   \n",
      "_________________________________________________________________\n",
      "block5_conv3 (Conv2D)        (None, 14, 14, 512)       2359808   \n",
      "_________________________________________________________________\n",
      "block5_conv4 (Conv2D)        (None, 14, 14, 512)       2359808   \n",
      "_________________________________________________________________\n",
      "block5_pool (MaxPooling2D)   (None, 7, 7, 512)         0         \n",
      "_________________________________________________________________\n",
      "flatten (Flatten)            (None, 25088)             0         \n",
      "_________________________________________________________________\n",
      "dense (Dense)                (None, 2)                 50178     \n",
      "=================================================================\n",
      "Total params: 20,074,562\n",
      "Trainable params: 50,178\n",
      "Non-trainable params: 20,024,384\n",
      "_________________________________________________________________\n"
     ]
    }
   ],
   "source": [
    "\n",
    "# view the structure of the model\n",
    "model.summary()\n"
   ]
  },
  {
   "cell_type": "code",
   "execution_count": 10,
   "metadata": {},
   "outputs": [],
   "source": [
    "from tensorflow.keras.layers import MaxPooling2D"
   ]
  },
  {
   "cell_type": "code",
   "execution_count": 11,
   "metadata": {},
   "outputs": [
    {
     "name": "stdout",
     "output_type": "stream",
     "text": [
      "Model: \"sequential\"\n",
      "_________________________________________________________________\n",
      "Layer (type)                 Output Shape              Param #   \n",
      "=================================================================\n",
      "conv2d (Conv2D)              (None, 224, 224, 16)      208       \n",
      "_________________________________________________________________\n",
      "max_pooling2d (MaxPooling2D) (None, 112, 112, 16)      0         \n",
      "_________________________________________________________________\n",
      "conv2d_1 (Conv2D)            (None, 112, 112, 32)      2080      \n",
      "_________________________________________________________________\n",
      "max_pooling2d_1 (MaxPooling2 (None, 56, 56, 32)        0         \n",
      "_________________________________________________________________\n",
      "conv2d_2 (Conv2D)            (None, 56, 56, 64)        8256      \n",
      "_________________________________________________________________\n",
      "max_pooling2d_2 (MaxPooling2 (None, 28, 28, 64)        0         \n",
      "_________________________________________________________________\n",
      "flatten_1 (Flatten)          (None, 50176)             0         \n",
      "_________________________________________________________________\n",
      "dense_1 (Dense)              (None, 500)               25088500  \n",
      "_________________________________________________________________\n",
      "dense_2 (Dense)              (None, 2)                 1002      \n",
      "=================================================================\n",
      "Total params: 25,100,046\n",
      "Trainable params: 25,100,046\n",
      "Non-trainable params: 0\n",
      "_________________________________________________________________\n"
     ]
    }
   ],
   "source": [
    "### Create Model from scratch using CNN\n",
    "model=Sequential()\n",
    "model.add(Conv2D(filters=16,kernel_size=2,padding=\"same\",activation=\"relu\",input_shape=(224,224,3)))\n",
    "model.add(MaxPooling2D(pool_size=2))\n",
    "model.add(Conv2D(filters=32,kernel_size=2,padding=\"same\",activation =\"relu\"))\n",
    "model.add(MaxPooling2D(pool_size=2))\n",
    "model.add(Conv2D(filters=64,kernel_size=2,padding=\"same\",activation=\"relu\"))\n",
    "model.add(MaxPooling2D(pool_size=2))\n",
    "model.add(Flatten())\n",
    "model.add(Dense(500,activation=\"relu\"))\n",
    "model.add(Dense(2,activation=\"softmax\"))\n",
    "model.summary()"
   ]
  },
  {
   "cell_type": "code",
   "execution_count": 12,
   "metadata": {},
   "outputs": [],
   "source": [
    "# tell the model what cost and optimization method to use\n",
    "model.compile(\n",
    "  loss='categorical_crossentropy',\n",
    "  optimizer='adam',\n",
    "  metrics=['accuracy']\n",
    ")\n"
   ]
  },
  {
   "cell_type": "code",
   "execution_count": 13,
   "metadata": {},
   "outputs": [],
   "source": [
    "# Use the Image Data Generator to import the images from the dataset\n",
    "from tensorflow.keras.preprocessing.image import ImageDataGenerator\n",
    "\n",
    "train_datagen = ImageDataGenerator(rescale = 1./255,\n",
    "                                   shear_range = 0.2,\n",
    "                                   zoom_range = 0.2,\n",
    "                                   horizontal_flip = True)\n",
    "\n",
    "test_datagen = ImageDataGenerator(rescale = 1./255)"
   ]
  },
  {
   "cell_type": "code",
   "execution_count": 14,
   "metadata": {},
   "outputs": [
    {
     "name": "stdout",
     "output_type": "stream",
     "text": [
      "Found 416 images belonging to 2 classes.\n"
     ]
    }
   ],
   "source": [
    "# Make sure you provide the same target size as initialied for the image size\n",
    "training_set = train_datagen.flow_from_directory('Dataset/Train',\n",
    "                                                 target_size = (224, 224),\n",
    "                                                 batch_size = 32,\n",
    "                                                 class_mode = 'categorical')"
   ]
  },
  {
   "cell_type": "code",
   "execution_count": 15,
   "metadata": {},
   "outputs": [
    {
     "data": {
      "text/plain": [
       "<keras.preprocessing.image.DirectoryIterator at 0x230eed16470>"
      ]
     },
     "execution_count": 15,
     "metadata": {},
     "output_type": "execute_result"
    }
   ],
   "source": [
    "training_set"
   ]
  },
  {
   "cell_type": "code",
   "execution_count": 16,
   "metadata": {},
   "outputs": [
    {
     "name": "stdout",
     "output_type": "stream",
     "text": [
      "Found 134 images belonging to 2 classes.\n"
     ]
    }
   ],
   "source": [
    "test_set = test_datagen.flow_from_directory('Dataset/Test',\n",
    "                                            target_size = (224, 224),\n",
    "                                            batch_size = 32,\n",
    "                                            class_mode = 'categorical')"
   ]
  },
  {
   "cell_type": "code",
   "execution_count": 18,
   "metadata": {
    "scrolled": true
   },
   "outputs": [
    {
     "name": "stderr",
     "output_type": "stream",
     "text": [
      "D:\\Anaconda_3\\envs\\mal_det\\lib\\site-packages\\keras\\engine\\training.py:1972: UserWarning: `Model.fit_generator` is deprecated and will be removed in a future version. Please use `Model.fit`, which supports generators.\n",
      "  warnings.warn('`Model.fit_generator` is deprecated and '\n"
     ]
    },
    {
     "name": "stdout",
     "output_type": "stream",
     "text": [
      "Epoch 1/50\n",
      "13/13 [==============================] - 26s 2s/step - loss: 1.7145 - accuracy: 0.4736 - val_loss: 0.7671 - val_accuracy: 0.3209\n",
      "Epoch 2/50\n",
      "13/13 [==============================] - 19s 1s/step - loss: 0.6905 - accuracy: 0.5312 - val_loss: 0.6640 - val_accuracy: 0.6791\n",
      "Epoch 3/50\n",
      "13/13 [==============================] - 19s 1s/step - loss: 0.6808 - accuracy: 0.5481 - val_loss: 0.6841 - val_accuracy: 0.5821\n",
      "Epoch 4/50\n",
      "13/13 [==============================] - 19s 1s/step - loss: 0.6534 - accuracy: 0.6466 - val_loss: 0.7412 - val_accuracy: 0.3806\n",
      "Epoch 5/50\n",
      "13/13 [==============================] - 18s 1s/step - loss: 0.6013 - accuracy: 0.6731 - val_loss: 0.7703 - val_accuracy: 0.3881\n",
      "Epoch 6/50\n",
      "13/13 [==============================] - 18s 1s/step - loss: 0.5328 - accuracy: 0.7356 - val_loss: 1.0184 - val_accuracy: 0.3881\n",
      "Epoch 7/50\n",
      "13/13 [==============================] - 18s 1s/step - loss: 0.4738 - accuracy: 0.7572 - val_loss: 0.9112 - val_accuracy: 0.4254\n",
      "Epoch 8/50\n",
      "13/13 [==============================] - 18s 1s/step - loss: 0.4527 - accuracy: 0.7764 - val_loss: 0.9787 - val_accuracy: 0.4552\n",
      "Epoch 9/50\n",
      "13/13 [==============================] - 18s 1s/step - loss: 0.4404 - accuracy: 0.7885 - val_loss: 0.6907 - val_accuracy: 0.5522\n",
      "Epoch 10/50\n",
      "13/13 [==============================] - 18s 1s/step - loss: 0.3550 - accuracy: 0.8486 - val_loss: 0.7583 - val_accuracy: 0.5373\n",
      "Epoch 11/50\n",
      "13/13 [==============================] - 19s 1s/step - loss: 0.3350 - accuracy: 0.8798 - val_loss: 0.7166 - val_accuracy: 0.5448\n",
      "Epoch 12/50\n",
      "13/13 [==============================] - 20s 2s/step - loss: 0.2913 - accuracy: 0.8678 - val_loss: 0.5487 - val_accuracy: 0.6866\n",
      "Epoch 13/50\n",
      "13/13 [==============================] - 23s 2s/step - loss: 0.3126 - accuracy: 0.8726 - val_loss: 0.5690 - val_accuracy: 0.7015\n",
      "Epoch 14/50\n",
      "13/13 [==============================] - 19s 1s/step - loss: 0.2839 - accuracy: 0.8894 - val_loss: 0.6024 - val_accuracy: 0.6866\n",
      "Epoch 15/50\n",
      "13/13 [==============================] - 21s 2s/step - loss: 0.1931 - accuracy: 0.9327 - val_loss: 0.3907 - val_accuracy: 0.8284\n",
      "Epoch 16/50\n",
      "13/13 [==============================] - 20s 2s/step - loss: 0.1541 - accuracy: 0.9495 - val_loss: 0.5725 - val_accuracy: 0.7313\n",
      "Epoch 17/50\n",
      "13/13 [==============================] - 22s 2s/step - loss: 0.1396 - accuracy: 0.9399 - val_loss: 0.4066 - val_accuracy: 0.8284\n",
      "Epoch 18/50\n",
      "13/13 [==============================] - 20s 2s/step - loss: 0.1347 - accuracy: 0.9567 - val_loss: 0.2880 - val_accuracy: 0.8806\n",
      "Epoch 19/50\n",
      "13/13 [==============================] - 19s 1s/step - loss: 0.1164 - accuracy: 0.9688 - val_loss: 0.2572 - val_accuracy: 0.9030\n",
      "Epoch 20/50\n",
      "13/13 [==============================] - 20s 1s/step - loss: 0.1245 - accuracy: 0.9567 - val_loss: 0.3417 - val_accuracy: 0.8582\n",
      "Epoch 21/50\n",
      "13/13 [==============================] - 20s 2s/step - loss: 0.0994 - accuracy: 0.9712 - val_loss: 0.2580 - val_accuracy: 0.8955\n",
      "Epoch 22/50\n",
      "13/13 [==============================] - 20s 2s/step - loss: 0.1196 - accuracy: 0.9639 - val_loss: 0.2220 - val_accuracy: 0.8881\n",
      "Epoch 23/50\n",
      "13/13 [==============================] - 21s 2s/step - loss: 0.0970 - accuracy: 0.9688 - val_loss: 0.2913 - val_accuracy: 0.8955\n",
      "Epoch 24/50\n",
      "13/13 [==============================] - 20s 2s/step - loss: 0.1360 - accuracy: 0.9615 - val_loss: 0.2310 - val_accuracy: 0.9179\n",
      "Epoch 25/50\n",
      "13/13 [==============================] - 20s 2s/step - loss: 0.0872 - accuracy: 0.9808 - val_loss: 0.4672 - val_accuracy: 0.8284\n",
      "Epoch 26/50\n",
      "13/13 [==============================] - 20s 2s/step - loss: 0.1593 - accuracy: 0.9495 - val_loss: 0.2804 - val_accuracy: 0.8955\n",
      "Epoch 27/50\n",
      "13/13 [==============================] - 22s 2s/step - loss: 0.1111 - accuracy: 0.9688 - val_loss: 0.1795 - val_accuracy: 0.9179\n",
      "Epoch 28/50\n",
      "13/13 [==============================] - 21s 2s/step - loss: 0.0638 - accuracy: 0.9832 - val_loss: 0.2195 - val_accuracy: 0.9030\n",
      "Epoch 29/50\n",
      "13/13 [==============================] - 22s 2s/step - loss: 0.1024 - accuracy: 0.9736 - val_loss: 0.3324 - val_accuracy: 0.8881\n",
      "Epoch 30/50\n",
      "13/13 [==============================] - 20s 2s/step - loss: 0.0965 - accuracy: 0.9784 - val_loss: 0.2382 - val_accuracy: 0.9030\n",
      "Epoch 31/50\n",
      "13/13 [==============================] - 21s 2s/step - loss: 0.0819 - accuracy: 0.9760 - val_loss: 0.2669 - val_accuracy: 0.9030\n",
      "Epoch 32/50\n",
      "13/13 [==============================] - 22s 2s/step - loss: 0.0721 - accuracy: 0.9784 - val_loss: 0.3494 - val_accuracy: 0.8507\n",
      "Epoch 33/50\n",
      "13/13 [==============================] - 21s 2s/step - loss: 0.0798 - accuracy: 0.9736 - val_loss: 0.3220 - val_accuracy: 0.8657\n",
      "Epoch 34/50\n",
      "13/13 [==============================] - 21s 2s/step - loss: 0.1433 - accuracy: 0.9471 - val_loss: 0.3123 - val_accuracy: 0.8955\n",
      "Epoch 35/50\n",
      "13/13 [==============================] - 19s 1s/step - loss: 0.0999 - accuracy: 0.9736 - val_loss: 0.1841 - val_accuracy: 0.9403\n",
      "Epoch 36/50\n",
      "13/13 [==============================] - 21s 2s/step - loss: 0.0459 - accuracy: 0.9904 - val_loss: 0.5416 - val_accuracy: 0.8433\n",
      "Epoch 37/50\n",
      "13/13 [==============================] - 20s 2s/step - loss: 0.0935 - accuracy: 0.9760 - val_loss: 0.2170 - val_accuracy: 0.9254\n",
      "Epoch 38/50\n",
      "13/13 [==============================] - 23s 2s/step - loss: 0.0567 - accuracy: 0.9856 - val_loss: 0.1939 - val_accuracy: 0.9403\n",
      "Epoch 39/50\n",
      "13/13 [==============================] - 21s 2s/step - loss: 0.0464 - accuracy: 0.9856 - val_loss: 0.3301 - val_accuracy: 0.9030\n",
      "Epoch 40/50\n",
      "13/13 [==============================] - 20s 2s/step - loss: 0.0523 - accuracy: 0.9784 - val_loss: 0.2429 - val_accuracy: 0.9179\n",
      "Epoch 41/50\n",
      "13/13 [==============================] - 21s 2s/step - loss: 0.0484 - accuracy: 0.9928 - val_loss: 0.2350 - val_accuracy: 0.9328\n",
      "Epoch 42/50\n",
      "13/13 [==============================] - 21s 2s/step - loss: 0.0726 - accuracy: 0.9712 - val_loss: 0.6251 - val_accuracy: 0.8284\n",
      "Epoch 43/50\n",
      "13/13 [==============================] - 20s 2s/step - loss: 0.0724 - accuracy: 0.9760 - val_loss: 0.2322 - val_accuracy: 0.9030\n",
      "Epoch 44/50\n",
      "13/13 [==============================] - 21s 2s/step - loss: 0.0476 - accuracy: 0.9880 - val_loss: 0.2062 - val_accuracy: 0.9478\n",
      "Epoch 45/50\n",
      "13/13 [==============================] - 21s 2s/step - loss: 0.0546 - accuracy: 0.9904 - val_loss: 0.3506 - val_accuracy: 0.8657\n",
      "Epoch 46/50\n",
      "13/13 [==============================] - 21s 2s/step - loss: 0.0431 - accuracy: 0.9880 - val_loss: 0.2764 - val_accuracy: 0.8955\n",
      "Epoch 47/50\n",
      "13/13 [==============================] - 22s 2s/step - loss: 0.0345 - accuracy: 0.9880 - val_loss: 0.2545 - val_accuracy: 0.9104\n",
      "Epoch 48/50\n",
      "13/13 [==============================] - 21s 2s/step - loss: 0.0390 - accuracy: 0.9832 - val_loss: 0.1571 - val_accuracy: 0.9627\n",
      "Epoch 49/50\n",
      "13/13 [==============================] - 21s 2s/step - loss: 0.0195 - accuracy: 1.0000 - val_loss: 0.2461 - val_accuracy: 0.9179\n",
      "Epoch 50/50\n",
      "13/13 [==============================] - 21s 2s/step - loss: 0.0231 - accuracy: 0.9952 - val_loss: 0.2595 - val_accuracy: 0.9254\n"
     ]
    }
   ],
   "source": [
    "# fit the model\n",
    "# Run the cell. It will take some time to execute\n",
    "r = model.fit_generator(\n",
    "  training_set,\n",
    "  validation_data=test_set,\n",
    "  epochs=50,\n",
    "  steps_per_epoch=len(training_set),\n",
    "  validation_steps=len(test_set)\n",
    ")"
   ]
  },
  {
   "cell_type": "code",
   "execution_count": null,
   "metadata": {},
   "outputs": [],
   "source": []
  },
  {
   "cell_type": "code",
   "execution_count": 19,
   "metadata": {},
   "outputs": [
    {
     "data": {
      "image/png": "[encoded data removed]",
      "text/plain": [
       "<Figure size 432x288 with 1 Axes>"
      ]
     },
     "metadata": {
      "needs_background": "light"
     },
     "output_type": "display_data"
    },
    {
     "data": {
      "image/png": "[encoded data removed]",
      "text/plain": [
       "<Figure size 432x288 with 1 Axes>"
      ]
     },
     "metadata": {
      "needs_background": "light"
     },
     "output_type": "display_data"
    },
    {
     "data": {
      "text/plain": [
       "<Figure size 432x288 with 0 Axes>"
      ]
     },
     "metadata": {},
     "output_type": "display_data"
    }
   ],
   "source": [
    "# plot the loss\n",
    "plt.plot(r.history['loss'], label='train loss')\n",
    "plt.plot(r.history['val_loss'], label='val loss')\n",
    "plt.legend()\n",
    "plt.show()\n",
    "plt.savefig('LossVal_loss')\n",
    "\n",
    "# plot the accuracy\n",
    "plt.plot(r.history['accuracy'], label='train acc')\n",
    "plt.plot(r.history['val_accuracy'], label='val acc')\n",
    "plt.legend()\n",
    "plt.show()\n",
    "plt.savefig('AccVal_acc')"
   ]
  },
  {
   "cell_type": "code",
   "execution_count": 20,
   "metadata": {},
   "outputs": [],
   "source": [
    "# save it as a h5 file\n",
    "\n",
    "\n",
    "from tensorflow.keras.models import load_model\n",
    "\n",
    "model.save('model_vgg19.h5')"
   ]
  },
  {
   "cell_type": "code",
   "execution_count": null,
   "metadata": {},
   "outputs": [],
   "source": []
  },
  {
   "cell_type": "code",
   "execution_count": 21,
   "metadata": {},
   "outputs": [],
   "source": [
    "\n",
    "y_pred = model.predict(test_set)\n"
   ]
  },
  {
   "cell_type": "code",
   "execution_count": 22,
   "metadata": {},
   "outputs": [
    {
     "data": {
      "text/plain": [
       "array([[6.20367890e-03, 9.93796349e-01],\n",
       "       [1.00000000e+00, 1.61145657e-15],\n",
       "       [6.05961308e-02, 9.39403892e-01],\n",
       "       [1.00000000e+00, 7.62638910e-11],\n",
       "       [1.71201959e-01, 8.28798056e-01],\n",
       "       [3.09201814e-02, 9.69079852e-01],\n",
       "       [9.99993205e-01, 6.77743537e-06],\n",
       "       [1.58445735e-03, 9.98415589e-01],\n",
       "       [9.99992728e-01, 7.22357072e-06],\n",
       "       [6.47397995e-01, 3.52602065e-01],\n",
       "       [2.40081139e-02, 9.75991845e-01],\n",
       "       [1.00000000e+00, 2.11105509e-24],\n",
       "       [8.96813348e-03, 9.91031885e-01],\n",
       "       [1.29682850e-03, 9.98703122e-01],\n",
       "       [8.55380535e-01, 1.44619480e-01],\n",
       "       [1.00000000e+00, 2.64470157e-09],\n",
       "       [9.99999881e-01, 1.32157723e-07],\n",
       "       [4.72650025e-03, 9.95273530e-01],\n",
       "       [5.45603335e-01, 4.54396695e-01],\n",
       "       [9.99929786e-01, 7.02594334e-05],\n",
       "       [1.04778633e-02, 9.89522159e-01],\n",
       "       [1.00000000e+00, 6.90875801e-28],\n",
       "       [1.00000000e+00, 1.20021302e-11],\n",
       "       [9.99996662e-01, 3.31794581e-06],\n",
       "       [2.10880279e-03, 9.97891247e-01],\n",
       "       [1.00000000e+00, 1.11710261e-12],\n",
       "       [1.00000000e+00, 8.27999336e-11],\n",
       "       [9.99972343e-01, 2.76033115e-05],\n",
       "       [9.77501750e-01, 2.24982761e-02],\n",
       "       [1.00000000e+00, 3.80447354e-08],\n",
       "       [9.99966741e-01, 3.32316849e-05],\n",
       "       [9.99999762e-01, 1.93345656e-07],\n",
       "       [1.00000000e+00, 3.79781674e-16],\n",
       "       [1.00000000e+00, 1.88752978e-08],\n",
       "       [9.62082803e-01, 3.79171856e-02],\n",
       "       [1.00000000e+00, 7.44913978e-15],\n",
       "       [3.94195281e-02, 9.60580468e-01],\n",
       "       [6.61547645e-04, 9.99338448e-01],\n",
       "       [9.99833703e-01, 1.66313548e-04],\n",
       "       [9.99999881e-01, 1.38184006e-07],\n",
       "       [4.02935803e-01, 5.97064197e-01],\n",
       "       [8.76638964e-02, 9.12336051e-01],\n",
       "       [7.76160182e-03, 9.92238462e-01],\n",
       "       [4.25756164e-03, 9.95742381e-01],\n",
       "       [2.17143819e-01, 7.82856226e-01],\n",
       "       [1.00000000e+00, 5.00599873e-09],\n",
       "       [1.00000000e+00, 6.76470035e-12],\n",
       "       [6.36290759e-03, 9.93637085e-01],\n",
       "       [3.53800575e-03, 9.96462047e-01],\n",
       "       [1.00000000e+00, 1.73248487e-15],\n",
       "       [1.43708126e-03, 9.98562992e-01],\n",
       "       [1.16484143e-01, 8.83515835e-01],\n",
       "       [9.99985099e-01, 1.48920262e-05],\n",
       "       [5.56573621e-04, 9.99443471e-01],\n",
       "       [1.00000000e+00, 3.47626511e-11],\n",
       "       [1.00000000e+00, 6.98396999e-25],\n",
       "       [1.00000000e+00, 7.19471818e-14],\n",
       "       [2.50602253e-02, 9.74939764e-01],\n",
       "       [2.49708630e-03, 9.97502863e-01],\n",
       "       [1.19628124e-02, 9.88037229e-01],\n",
       "       [3.18423025e-02, 9.68157649e-01],\n",
       "       [3.33916303e-03, 9.96660829e-01],\n",
       "       [1.00000000e+00, 8.97208523e-12],\n",
       "       [9.99985695e-01, 1.43039761e-05],\n",
       "       [3.53175491e-01, 6.46824419e-01],\n",
       "       [1.07551580e-02, 9.89244819e-01],\n",
       "       [9.99999881e-01, 1.50003459e-07],\n",
       "       [9.99998450e-01, 1.53478118e-06],\n",
       "       [9.99997616e-01, 2.34741265e-06],\n",
       "       [1.83657445e-02, 9.81634319e-01],\n",
       "       [1.00000000e+00, 1.35315370e-09],\n",
       "       [1.04475569e-03, 9.98955250e-01],\n",
       "       [1.00000000e+00, 4.20230997e-08],\n",
       "       [1.00000000e+00, 7.06736156e-13],\n",
       "       [1.17342332e-02, 9.88265753e-01],\n",
       "       [9.99996185e-01, 3.79402763e-06],\n",
       "       [1.14902039e-03, 9.98850942e-01],\n",
       "       [1.55203987e-03, 9.98447895e-01],\n",
       "       [2.09299270e-02, 9.79070127e-01],\n",
       "       [9.99994755e-01, 5.27087559e-06],\n",
       "       [6.79563761e-01, 3.20436239e-01],\n",
       "       [9.99993682e-01, 6.30443583e-06],\n",
       "       [2.70809582e-03, 9.97291863e-01],\n",
       "       [1.00000000e+00, 1.22165735e-08],\n",
       "       [1.00000000e+00, 6.30410479e-09],\n",
       "       [5.98540783e-01, 4.01459187e-01],\n",
       "       [9.99848366e-01, 1.51627522e-04],\n",
       "       [9.99999881e-01, 1.11564454e-07],\n",
       "       [9.99497294e-01, 5.02687064e-04],\n",
       "       [1.00000000e+00, 1.03675724e-09],\n",
       "       [9.99990821e-01, 9.19722515e-06],\n",
       "       [9.97640014e-01, 2.35997839e-03],\n",
       "       [2.58861226e-03, 9.97411430e-01],\n",
       "       [1.00000000e+00, 1.86688201e-26],\n",
       "       [9.37080026e-01, 6.29200488e-02],\n",
       "       [3.16313028e-01, 6.83686972e-01],\n",
       "       [1.48723871e-02, 9.85127628e-01],\n",
       "       [9.99999762e-01, 2.21726438e-07],\n",
       "       [1.00000000e+00, 1.75882037e-16],\n",
       "       [1.00000000e+00, 7.78779374e-10],\n",
       "       [1.00000000e+00, 1.09723516e-13],\n",
       "       [2.97829462e-03, 9.97021735e-01],\n",
       "       [1.00000000e+00, 4.54069600e-08],\n",
       "       [1.00000000e+00, 1.97600703e-11],\n",
       "       [1.00000000e+00, 8.92203023e-09],\n",
       "       [1.00000000e+00, 1.49697933e-24],\n",
       "       [1.34242186e-03, 9.98657584e-01],\n",
       "       [9.99991655e-01, 8.30389854e-06],\n",
       "       [9.99998450e-01, 1.52632981e-06],\n",
       "       [1.26037234e-02, 9.87396300e-01],\n",
       "       [9.99197662e-01, 8.02323280e-04],\n",
       "       [2.74105649e-03, 9.97258902e-01],\n",
       "       [7.69654587e-02, 9.23034549e-01],\n",
       "       [9.35097982e-04, 9.99064863e-01],\n",
       "       [2.89892452e-03, 9.97101009e-01],\n",
       "       [9.99907255e-01, 9.26927896e-05],\n",
       "       [1.00000000e+00, 9.28942132e-11],\n",
       "       [5.71407497e-01, 4.28592503e-01],\n",
       "       [9.98232961e-01, 1.76697504e-03],\n",
       "       [9.99989748e-01, 1.02580925e-05],\n",
       "       [6.92298114e-01, 3.07701886e-01],\n",
       "       [5.06109558e-04, 9.99493837e-01],\n",
       "       [1.74606440e-03, 9.98253882e-01],\n",
       "       [3.39330500e-03, 9.96606708e-01],\n",
       "       [1.00000000e+00, 5.66400118e-08],\n",
       "       [9.99999762e-01, 2.14210360e-07],\n",
       "       [1.00000000e+00, 4.62825795e-08],\n",
       "       [4.11303993e-03, 9.95886981e-01],\n",
       "       [9.99999881e-01, 1.11989145e-07],\n",
       "       [9.99999642e-01, 3.94856386e-07],\n",
       "       [1.62185950e-03, 9.98378158e-01],\n",
       "       [5.21183480e-03, 9.94788170e-01],\n",
       "       [9.99960661e-01, 3.92948896e-05],\n",
       "       [9.99999881e-01, 8.89486458e-08]], dtype=float32)"
      ]
     },
     "execution_count": 22,
     "metadata": {},
     "output_type": "execute_result"
    }
   ],
   "source": [
    "y_pred"
   ]
  },
  {
   "cell_type": "code",
   "execution_count": 23,
   "metadata": {},
   "outputs": [],
   "source": [
    "import numpy as np\n",
    "y_pred = np.argmax(y_pred, axis=1)"
   ]
  },
  {
   "cell_type": "code",
   "execution_count": 24,
   "metadata": {},
   "outputs": [
    {
     "data": {
      "text/plain": [
       "array([1, 0, 1, 0, 1, 1, 0, 1, 0, 0, 1, 0, 1, 1, 0, 0, 0, 1, 0, 0, 1, 0,\n",
       "       0, 0, 1, 0, 0, 0, 0, 0, 0, 0, 0, 0, 0, 0, 1, 1, 0, 0, 1, 1, 1, 1,\n",
       "       1, 0, 0, 1, 1, 0, 1, 1, 0, 1, 0, 0, 0, 1, 1, 1, 1, 1, 0, 0, 1, 1,\n",
       "       0, 0, 0, 1, 0, 1, 0, 0, 1, 0, 1, 1, 1, 0, 0, 0, 1, 0, 0, 0, 0, 0,\n",
       "       0, 0, 0, 0, 1, 0, 0, 1, 1, 0, 0, 0, 0, 1, 0, 0, 0, 0, 1, 0, 0, 1,\n",
       "       0, 1, 1, 1, 1, 0, 0, 0, 0, 0, 0, 1, 1, 1, 0, 0, 0, 1, 0, 0, 1, 1,\n",
       "       0, 0], dtype=int64)"
      ]
     },
     "execution_count": 24,
     "metadata": {},
     "output_type": "execute_result"
    }
   ],
   "source": [
    "y_pred"
   ]
  },
  {
   "cell_type": "code",
   "execution_count": null,
   "metadata": {},
   "outputs": [],
   "source": []
  },
  {
   "cell_type": "code",
   "execution_count": 25,
   "metadata": {},
   "outputs": [],
   "source": [
    "from tensorflow.keras.models import load_model\n",
    "from tensorflow.keras.preprocessing import image"
   ]
  },
  {
   "cell_type": "code",
   "execution_count": 26,
   "metadata": {},
   "outputs": [],
   "source": [
    "model=load_model('model_vgg19.h5')"
   ]
  },
  {
   "cell_type": "code",
   "execution_count": null,
   "metadata": {},
   "outputs": [],
   "source": []
  },
  {
   "cell_type": "code",
   "execution_count": 27,
   "metadata": {},
   "outputs": [],
   "source": [
    "img=image.load_img('Dataset/Test/Uninfected/2.png',target_size=(224,224))\n",
    "\n"
   ]
  },
  {
   "cell_type": "code",
   "execution_count": 28,
   "metadata": {},
   "outputs": [
    {
     "data": {
      "text/plain": [
       "array([[[0., 0., 0.],\n",
       "        [0., 0., 0.],\n",
       "        [0., 0., 0.],\n",
       "        ...,\n",
       "        [0., 0., 0.],\n",
       "        [0., 0., 0.],\n",
       "        [0., 0., 0.]],\n",
       "\n",
       "       [[0., 0., 0.],\n",
       "        [0., 0., 0.],\n",
       "        [0., 0., 0.],\n",
       "        ...,\n",
       "        [0., 0., 0.],\n",
       "        [0., 0., 0.],\n",
       "        [0., 0., 0.]],\n",
       "\n",
       "       [[0., 0., 0.],\n",
       "        [0., 0., 0.],\n",
       "        [0., 0., 0.],\n",
       "        ...,\n",
       "        [0., 0., 0.],\n",
       "        [0., 0., 0.],\n",
       "        [0., 0., 0.]],\n",
       "\n",
       "       ...,\n",
       "\n",
       "       [[0., 0., 0.],\n",
       "        [0., 0., 0.],\n",
       "        [0., 0., 0.],\n",
       "        ...,\n",
       "        [0., 0., 0.],\n",
       "        [0., 0., 0.],\n",
       "        [0., 0., 0.]],\n",
       "\n",
       "       [[0., 0., 0.],\n",
       "        [0., 0., 0.],\n",
       "        [0., 0., 0.],\n",
       "        ...,\n",
       "        [0., 0., 0.],\n",
       "        [0., 0., 0.],\n",
       "        [0., 0., 0.]],\n",
       "\n",
       "       [[0., 0., 0.],\n",
       "        [0., 0., 0.],\n",
       "        [0., 0., 0.],\n",
       "        ...,\n",
       "        [0., 0., 0.],\n",
       "        [0., 0., 0.],\n",
       "        [0., 0., 0.]]], dtype=float32)"
      ]
     },
     "execution_count": 28,
     "metadata": {},
     "output_type": "execute_result"
    }
   ],
   "source": [
    "x=image.img_to_array(img)\n",
    "x"
   ]
  },
  {
   "cell_type": "code",
   "execution_count": 29,
   "metadata": {},
   "outputs": [
    {
     "data": {
      "text/plain": [
       "(224, 224, 3)"
      ]
     },
     "execution_count": 29,
     "metadata": {},
     "output_type": "execute_result"
    }
   ],
   "source": [
    "x.shape"
   ]
  },
  {
   "cell_type": "code",
   "execution_count": 30,
   "metadata": {},
   "outputs": [],
   "source": [
    "x=x/255\n"
   ]
  },
  {
   "cell_type": "code",
   "execution_count": 31,
   "metadata": {},
   "outputs": [
    {
     "data": {
      "text/plain": [
       "(1, 224, 224, 3)"
      ]
     },
     "execution_count": 31,
     "metadata": {},
     "output_type": "execute_result"
    }
   ],
   "source": [
    "x=np.expand_dims(x,axis=0)\n",
    "img_data=preprocess_input(x)\n",
    "img_data.shape"
   ]
  },
  {
   "cell_type": "code",
   "execution_count": 32,
   "metadata": {},
   "outputs": [
    {
     "data": {
      "text/plain": [
       "array([[0., 1.]], dtype=float32)"
      ]
     },
     "execution_count": 32,
     "metadata": {},
     "output_type": "execute_result"
    }
   ],
   "source": [
    "model.predict(img_data)"
   ]
  },
  {
   "cell_type": "code",
   "execution_count": 33,
   "metadata": {},
   "outputs": [],
   "source": [
    "a=np.argmax(model.predict(img_data), axis=1)"
   ]
  },
  {
   "cell_type": "code",
   "execution_count": 34,
   "metadata": {},
   "outputs": [
    {
     "name": "stdout",
     "output_type": "stream",
     "text": [
      "Uninfected\n"
     ]
    }
   ],
   "source": [
    "if(a==1):\n",
    "    print(\"Uninfected\")\n",
    "else:\n",
    "    print(\"Infected\")"
   ]
  },
  {
   "cell_type": "code",
   "execution_count": null,
   "metadata": {},
   "outputs": [],
   "source": []
  },
  {
   "cell_type": "code",
   "execution_count": null,
   "metadata": {},
   "outputs": [],
   "source": []
  }
 ],
 "metadata": {
  "kernelspec": {
   "display_name": "Python 3",
   "language": "python",
   "name": "python3"
  },
  "language_info": {
   "codemirror_mode": {
    "name": "ipython",
    "version": 3
   },
   "file_extension": ".py",
   "mimetype": "text/x-python",
   "name": "python",
   "nbconvert_exporter": "python",
   "pygments_lexer": "ipython3",
   "version": "3.6.10"
  },
  "toc": {
   "base_numbering": 1,
   "nav_menu": {},
   "number_sections": true,
   "sideBar": true,
   "skip_h1_title": false,
   "title_cell": "Table of Contents",
   "title_sidebar": "Contents",
   "toc_cell": false,
   "toc_position": {},
   "toc_section_display": true,
   "toc_window_display": false
  }
 },
 "nbformat": 4,
 "nbformat_minor": 2
}
